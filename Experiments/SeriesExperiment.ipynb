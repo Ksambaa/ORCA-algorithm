{
 "metadata": {
  "language_info": {
   "codemirror_mode": {
    "name": "ipython",
    "version": 3
   },
   "file_extension": ".py",
   "mimetype": "text/x-python",
   "name": "python",
   "nbconvert_exporter": "python",
   "pygments_lexer": "ipython3",
   "version": "3.8.2-final"
  },
  "orig_nbformat": 2,
  "kernelspec": {
   "name": "python38264bit2e8a81d7b5dc4695a61ed252fe513413",
   "display_name": "Python 3.8.2 64-bit"
  }
 },
 "nbformat": 4,
 "nbformat_minor": 2,
 "cells": [
  {
   "cell_type": "code",
   "execution_count": 1,
   "metadata": {},
   "outputs": [],
   "source": [
    "import os"
   ]
  },
  {
   "cell_type": "code",
   "execution_count": 2,
   "metadata": {
    "tags": []
   },
   "outputs": [],
   "source": [
    "baseExeDir = \"../cmake-build-release/Experiments/\"\n",
    "exeName = \"Single\"\n",
    "baseInpDir = \"/home/blackbox/Documents/Projects/ORCA-algorithm/TmpExpData/FakeRooms/1/\"\n",
    "baseInpName = \"_task.xml\"\n",
    "resultsFile = baseExeDir + \"result.txt\"\n",
    "minAgentsNum = 10\n",
    "maxAgentsNum = 15\n",
    "stepAgentsNum = 5\n",
    "taskNum = 2"
   ]
  },
  {
   "cell_type": "code",
   "execution_count": 3,
   "metadata": {},
   "outputs": [],
   "source": [
    "open(resultsFile, 'w').close()"
   ]
  },
  {
   "cell_type": "code",
   "execution_count": 4,
   "metadata": {
    "tags": []
   },
   "outputs": [
    {
     "output_type": "stream",
     "name": "stdout",
     "text": "10 0\n10 1\n15 0\n15 1\n"
    }
   ],
   "source": [
    "for agents in range(minAgentsNum, maxAgentsNum+1, stepAgentsNum):\n",
    "    for task in range(taskNum):\n",
    "        command = \"cd \" + baseExeDir + \" && ./\" + exeName + \" \" + baseInpDir + str(task) + baseInpName + \" \" + str(agents) \n",
    "        print(command)\n",
    "        os.system(command)"
   ]
  }
 ]
}